{
 "cells": [
  {
   "cell_type": "code",
   "execution_count": 1,
   "metadata": {},
   "outputs": [],
   "source": [
    "import pandas as pd\n",
    "df = pd.DataFrame({\"smiles\": (\"OC(=O)C1CNC2C3C4CC2C1N34\", \"OC(=O)C1CNC2COC1(C2)C#C\")})\n",
    "df.to_csv(\"molecules.csv\")"
   ]
  },
  {
   "cell_type": "code",
   "execution_count": 2,
   "metadata": {},
   "outputs": [],
   "source": [
    "from rdkit.Chem import PandasTools\n",
    "from swan.filter.screen import read_molecules\n",
    "molecules = read_molecules(\"molecules.csv\")\n",
    "PandasTools.AddMoleculeColumnToFrame(df, smilesCol='smiles', molCol='rdkit_molecules')"
   ]
  },
  {
   "cell_type": "code",
   "execution_count": 3,
   "metadata": {},
   "outputs": [
    {
     "data": {
      "text/html": [
       "<div>\n",
       "<style scoped>\n",
       "    .dataframe tbody tr th:only-of-type {\n",
       "        vertical-align: middle;\n",
       "    }\n",
       "\n",
       "    .dataframe tbody tr th {\n",
       "        vertical-align: top;\n",
       "    }\n",
       "\n",
       "    .dataframe thead th {\n",
       "        text-align: right;\n",
       "    }\n",
       "</style>\n",
       "<table border=\"1\" class=\"dataframe\">\n",
       "  <thead>\n",
       "    <tr style=\"text-align: right;\">\n",
       "      <th></th>\n",
       "      <th>smiles</th>\n",
       "      <th>rdkit_molecules</th>\n",
       "    </tr>\n",
       "  </thead>\n",
       "  <tbody>\n",
       "    <tr>\n",
       "      <th>0</th>\n",
       "      <td>OC(=O)C1CNC2C3C4CC2C1N34</td>\n",
       "      <td><img data-content=\"rdkit/molecule\" src=\"data:image/png;base64,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\" alt=\"Mol\"/></td>\n",
       "    </tr>\n",
       "    <tr>\n",
       "      <th>1</th>\n",
       "      <td>OC(=O)C1CNC2COC1(C2)C#C</td>\n",
       "      <td><img data-content=\"rdkit/molecule\" src=\"data:image/png;base64,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\" alt=\"Mol\"/></td>\n",
       "    </tr>\n",
       "  </tbody>\n",
       "</table>\n",
       "</div>"
      ],
      "text/plain": [
       "                     smiles                                    rdkit_molecules\n",
       "0  OC(=O)C1CNC2C3C4CC2C1N34  <img data-content=\"rdkit/molecule\" src=\"data:i...\n",
       "1   OC(=O)C1CNC2COC1(C2)C#C  <img data-content=\"rdkit/molecule\" src=\"data:i..."
      ]
     },
     "execution_count": 3,
     "metadata": {},
     "output_type": "execute_result"
    }
   ],
   "source": [
    "df"
   ]
  }
 ],
 "metadata": {
  "kernelspec": {
   "display_name": "Python 3",
   "language": "python",
   "name": "python3"
  },
  "language_info": {
   "codemirror_mode": {
    "name": "ipython",
    "version": 3
   },
   "file_extension": ".py",
   "mimetype": "text/x-python",
   "name": "python",
   "nbconvert_exporter": "python",
   "pygments_lexer": "ipython3",
   "version": "3.8.5"
  }
 },
 "nbformat": 4,
 "nbformat_minor": 4
}
